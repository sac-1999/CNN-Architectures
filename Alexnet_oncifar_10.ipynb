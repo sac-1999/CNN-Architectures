{
  "nbformat": 4,
  "nbformat_minor": 0,
  "metadata": {
    "accelerator": "GPU",
    "colab": {
      "name": "Alexnet_oncifar-10.ipynb",
      "provenance": [],
      "machine_shape": "hm",
      "mount_file_id": "1N7IL36agAgbLnqtFJgvigUmhEuXaG8WV",
      "authorship_tag": "ABX9TyN4p+OuSeI1kr3svgA9abHG",
      "include_colab_link": true
    },
    "kernelspec": {
      "display_name": "Python 3",
      "name": "python3"
    },
    "language_info": {
      "name": "python"
    }
  },
  "cells": [
    {
      "cell_type": "markdown",
      "metadata": {
        "id": "view-in-github",
        "colab_type": "text"
      },
      "source": [
        "<a href=\"https://colab.research.google.com/github/sac-1999/CNN-Architectures/blob/main/Alexnet_oncifar_10.ipynb\" target=\"_parent\"><img src=\"https://colab.research.google.com/assets/colab-badge.svg\" alt=\"Open In Colab\"/></a>"
      ]
    },
    {
      "cell_type": "code",
      "metadata": {
        "id": "VyZv3qT8DKxc"
      },
      "source": [
        "import pandas as pd\n",
        "import numpy as np\n",
        "import matplotlib.pyplot as plt\n",
        "import seaborn as sns\n",
        "import tensorflow as tf\n",
        "import os\n",
        "import tensorflow.keras.layers as layers\n",
        "from tqdm import tqdm"
      ],
      "execution_count": null,
      "outputs": []
    },
    {
      "cell_type": "code",
      "metadata": {
        "colab": {
          "base_uri": "https://localhost:8080/"
        },
        "id": "N45_4dSUEjOg",
        "outputId": "759b71c0-0107-45a0-bbc2-99b7a47de491"
      },
      "source": [
        "(x_train, y_train), (x_test, y_test) = tf.keras.datasets.cifar10.load_data()"
      ],
      "execution_count": null,
      "outputs": [
        {
          "output_type": "stream",
          "text": [
            "Downloading data from https://www.cs.toronto.edu/~kriz/cifar-10-python.tar.gz\n",
            "170500096/170498071 [==============================] - 4s 0us/step\n"
          ],
          "name": "stdout"
        }
      ]
    },
    {
      "cell_type": "code",
      "metadata": {
        "id": "rXJ49xiWQrOX"
      },
      "source": [
        "from sklearn.model_selection import train_test_split\n",
        "x_train,x_validation,y_train,y_validation = train_test_split(x_train,y_train, test_size = 5000, random_state = 0)"
      ],
      "execution_count": null,
      "outputs": []
    },
    {
      "cell_type": "code",
      "metadata": {
        "id": "ADHGvgPWzZ2r"
      },
      "source": [
        "train_csv = pd.DataFrame(y_train, columns = ['label'])\n",
        "train_csv['index'] = train_csv.index\n",
        "train_csv = train_csv.astype({'index': np.str})\n",
        "train_csv['image_ids'] = 'image_' + train_csv['index'] + '.png'\n",
        "train_csv.drop(labels = 'index', inplace = True, axis = 1)"
      ],
      "execution_count": null,
      "outputs": []
    },
    {
      "cell_type": "code",
      "metadata": {
        "colab": {
          "base_uri": "https://localhost:8080/",
          "height": 282
        },
        "id": "HG7sJDIDkr4K",
        "outputId": "45fa6922-b514-4fec-a605-bb9e12d5084c"
      },
      "source": [
        "plt.imshow(x_validation[0])"
      ],
      "execution_count": null,
      "outputs": [
        {
          "output_type": "execute_result",
          "data": {
            "text/plain": [
              "<matplotlib.image.AxesImage at 0x7f8995b3b690>"
            ]
          },
          "metadata": {
            "tags": []
          },
          "execution_count": 5
        },
        {
          "output_type": "display_data",
          "data": {
            "image/png": "[encoded data removed]",
            "text/plain": [
              "<Figure size 432x288 with 1 Axes>"
            ]
          },
          "metadata": {
            "tags": []
          }
        }
      ]
    },
    {
      "cell_type": "code",
      "metadata": {
        "id": "Gz9zIPqwzaC_"
      },
      "source": [
        "def save_to_local(data, path):\n",
        "    dims = (227,227)\n",
        "    for i in tqdm(range(len(data))):\n",
        "        image = data[i]\n",
        "        image = tf.image.resize(image, dims)\n",
        "        image = tf.cast(image, tf.uint8).numpy()\n",
        "        plt.imsave(path + 'image_'+ str(i) + '.png', image)"
      ],
      "execution_count": null,
      "outputs": []
    },
    {
      "cell_type": "code",
      "metadata": {
        "id": "KlCNIwNOGcNn"
      },
      "source": [
        "train_path = '/content/drive/MyDrive/local_data/train/'\n",
        "test_path = '/content/drive/MyDrive/local_data/test/'\n",
        "validation_path = '/content/drive/MyDrive/local_data/validation/'"
      ],
      "execution_count": null,
      "outputs": []
    },
    {
      "cell_type": "code",
      "metadata": {
        "id": "r7CXr1cG6uAU"
      },
      "source": [
        "os.mkdir(train_path)\n",
        "os.mkdir(test_path)\n",
        "os.mkdir(validation_path)"
      ],
      "execution_count": null,
      "outputs": []
    },
    {
      "cell_type": "code",
      "metadata": {
        "colab": {
          "background_save": true,
          "base_uri": "https://localhost:8080/"
        },
        "id": "5uqT-PwIGcZ6",
        "outputId": "2220f970-5696-490f-9429-654146081dfc"
      },
      "source": [
        "save_to_local(x_train,train_path)"
      ],
      "execution_count": null,
      "outputs": [
        {
          "output_type": "stream",
          "text": [
            "100%|██████████| 45000/45000 [25:20<00:00, 29.59it/s]\n"
          ],
          "name": "stderr"
        }
      ]
    },
    {
      "cell_type": "code",
      "metadata": {
        "colab": {
          "background_save": true,
          "base_uri": "https://localhost:8080/"
        },
        "id": "jz1-X1rc9Ml8",
        "outputId": "2403d902-8475-4440-8b85-e93ccd66d0c7"
      },
      "source": [
        "save_to_local(x_test,test_path)\n",
        "save_to_local(x_validation,validation_path)"
      ],
      "execution_count": null,
      "outputs": [
        {
          "output_type": "stream",
          "text": [
            "100%|██████████| 10000/10000 [05:37<00:00, 29.61it/s]\n",
            "100%|██████████| 5000/5000 [02:48<00:00, 29.72it/s]\n"
          ],
          "name": "stderr"
        }
      ]
    },
    {
      "cell_type": "code",
      "metadata": {
        "colab": {
          "background_save": true
        },
        "id": "Ab59KmHS71vZ"
      },
      "source": [
        "file_path = train_csv['image_ids'].values\n",
        "labels = train_csv['label'].values"
      ],
      "execution_count": null,
      "outputs": []
    },
    {
      "cell_type": "code",
      "metadata": {
        "colab": {
          "background_save": true
        },
        "id": "fAm3hPR871zv"
      },
      "source": [
        "ds_train = tf.data.Dataset.from_tensor_slices((file_path,labels))"
      ],
      "execution_count": null,
      "outputs": []
    },
    {
      "cell_type": "code",
      "metadata": {
        "colab": {
          "background_save": true
        },
        "id": "_idd6p_R7120"
      },
      "source": [
        "def read_image(image_path,label):\n",
        "    image = tf.io.read_file(train_path + image_path)\n",
        "    image = tf.image.decode_image(image,channels = 3, dtype = tf.dtypes.float32)\n",
        "    return image,label"
      ],
      "execution_count": null,
      "outputs": []
    },
    {
      "cell_type": "code",
      "metadata": {
        "colab": {
          "background_save": true
        },
        "id": "qxGTO9-4KA2i"
      },
      "source": [
        "ds_train = ds_train.map(read_image)"
      ],
      "execution_count": null,
      "outputs": []
    },
    {
      "cell_type": "code",
      "metadata": {
        "colab": {
          "background_save": true
        },
        "id": "S7sSOSLYKA97",
        "outputId": "e82e7ee4-79d3-4f4e-9d4b-949550631ff4"
      },
      "source": [
        "ds_train"
      ],
      "execution_count": null,
      "outputs": [
        {
          "output_type": "execute_result",
          "data": {
            "text/plain": [
              "<MapDataset shapes: (<unknown>, ()), types: (tf.float32, tf.uint8)>"
            ]
          },
          "metadata": {
            "tags": []
          },
          "execution_count": 0
        }
      ]
    },
    {
      "cell_type": "code",
      "metadata": {
        "colab": {
          "background_save": true
        },
        "id": "aEHdgTETLYjc"
      },
      "source": [
        "ds_train = (ds_train.shuffle(buffer_size=tf.data.experimental.cardinality(ds_train).numpy())\n",
        "            .batch(batch_size = 8, drop_remainder=True))"
      ],
      "execution_count": null,
      "outputs": []
    },
    {
      "cell_type": "code",
      "metadata": {
        "colab": {
          "background_save": true
        },
        "id": "ug5_i3yfLYm2",
        "outputId": "bafb55ae-5059-41d9-8c1c-91ca1813a40d"
      },
      "source": [
        "'''test_dataset = (test_dataset\n",
        "                  .shuffle(buffer_size=tf.data.experimental.cardinality(test_dataset).numpy())\n",
        "                  .batch(batch_size=32, drop_remainder=True))'''"
      ],
      "execution_count": null,
      "outputs": [
        {
          "output_type": "execute_result",
          "data": {
            "application/vnd.google.colaboratory.intrinsic+json": {
              "type": "string"
            },
            "text/plain": [
              "'test_dataset = (test_dataset\\n                  .shuffle(buffer_size=tf.data.experimental.cardinality(test_dataset).numpy())\\n                  .batch(batch_size=32, drop_remainder=True))'"
            ]
          },
          "metadata": {
            "tags": []
          },
          "execution_count": 0
        }
      ]
    },
    {
      "cell_type": "code",
      "metadata": {
        "colab": {
          "background_save": true
        },
        "id": "0wZBdLqJLYrY",
        "outputId": "11bb9973-2c8f-4cf8-92ae-9756fbac2484"
      },
      "source": [
        "'''validation_dataset = (validation_dataset\n",
        "                  .shuffle(buffer_size=tf.data.experimental.cardinality(validation_dataset).numpy())\n",
        "                  .batch(batch_size=32, drop_remainder=True))'''"
      ],
      "execution_count": null,
      "outputs": [
        {
          "output_type": "execute_result",
          "data": {
            "application/vnd.google.colaboratory.intrinsic+json": {
              "type": "string"
            },
            "text/plain": [
              "'validation_dataset = (validation_dataset\\n                  .shuffle(buffer_size=tf.data.experimental.cardinality(validation_dataset).numpy())\\n                  .batch(batch_size=32, drop_remainder=True))'"
            ]
          },
          "metadata": {
            "tags": []
          },
          "execution_count": 0
        }
      ]
    },
    {
      "cell_type": "code",
      "metadata": {
        "colab": {
          "background_save": true
        },
        "id": "-Odq1lujLYu0"
      },
      "source": [
        "def create_model():\n",
        "    model = tf.keras.Sequential()\n",
        "\n",
        "    model.add(layers.Conv2D(filters = 96, kernel_size = 11, strides = (4,4), padding = 'valid', activation = 'relu',\n",
        "                            input_shape=(227,227,3),name= 'conv_1_layer'))\n",
        "    layers.BatchNormalization()\n",
        "    model.add(layers.MaxPool2D(pool_size = (2,2),strides = (2,2),name = 'pool_1'))\n",
        "\n",
        "    model.add(layers.Conv2D(filters = 256, kernel_size = 5, strides = (1,1), padding = 'same', activation = 'relu', name= 'conv_2_layer'))\n",
        "    layers.BatchNormalization()\n",
        "    model.add(layers.MaxPool2D(pool_size = (3,3),strides = (2,2), name = 'pool_2'))\n",
        "\n",
        "\n",
        "    model.add(layers.Conv2D(filters = 384, kernel_size = 3, strides = (1,1), padding = 'same', activation = 'relu', name= 'conv_3_layer'))\n",
        "    layers.BatchNormalization()\n",
        "    model.add(layers.Conv2D(filters = 384, kernel_size = 3, strides = (1,1), padding = 'same', activation = 'relu', name= 'conv_4_layer'))\n",
        "    layers.BatchNormalization()\n",
        "    model.add(layers.Conv2D(filters = 256, kernel_size = 3, strides = (1,1), padding = 'same', activation = 'relu', name= 'conv_5_layer'))\n",
        "    layers.BatchNormalization()\n",
        "\n",
        "    model.add(layers.MaxPool2D(pool_size = (3,3),strides = (2,2), name ='pool_3'))\n",
        "\n",
        "    model.add(layers.Flatten())\n",
        "    model.add(layers.Dense(4096, activation='relu'))\n",
        "    model.add(layers.Dropout(0.2))\n",
        "\n",
        "    model.add(layers.Dense(4096, activation='relu'))\n",
        "    model.add(layers.Dropout(0.2))\n",
        "\n",
        "    model.add(layers.Dense(4096, activation='softmax'))\n",
        "    return model\n"
      ],
      "execution_count": null,
      "outputs": []
    },
    {
      "cell_type": "code",
      "metadata": {
        "colab": {
          "background_save": true
        },
        "id": "WGZj_KCKLYxt"
      },
      "source": [
        "model = create_model()"
      ],
      "execution_count": null,
      "outputs": []
    },
    {
      "cell_type": "code",
      "metadata": {
        "colab": {
          "background_save": true
        },
        "id": "pwrFrn1HLY1r",
        "outputId": "05d91795-d08a-4b9a-c306-40c54823d4a5"
      },
      "source": [
        "model.summary()"
      ],
      "execution_count": null,
      "outputs": [
        {
          "output_type": "stream",
          "text": [
            "Model: \"sequential\"\n",
            "_________________________________________________________________\n",
            "Layer (type)                 Output Shape              Param #   \n",
            "=================================================================\n",
            "conv_1_layer (Conv2D)        (None, 55, 55, 96)        34944     \n",
            "_________________________________________________________________\n",
            "pool_1 (MaxPooling2D)        (None, 27, 27, 96)        0         \n",
            "_________________________________________________________________\n",
            "conv_2_layer (Conv2D)        (None, 27, 27, 256)       614656    \n",
            "_________________________________________________________________\n",
            "pool_2 (MaxPooling2D)        (None, 13, 13, 256)       0         \n",
            "_________________________________________________________________\n",
            "conv_3_layer (Conv2D)        (None, 13, 13, 384)       885120    \n",
            "_________________________________________________________________\n",
            "conv_4_layer (Conv2D)        (None, 13, 13, 384)       1327488   \n",
            "_________________________________________________________________\n",
            "conv_5_layer (Conv2D)        (None, 13, 13, 256)       884992    \n",
            "_________________________________________________________________\n",
            "pool_3 (MaxPooling2D)        (None, 6, 6, 256)         0         \n",
            "_________________________________________________________________\n",
            "flatten (Flatten)            (None, 9216)              0         \n",
            "_________________________________________________________________\n",
            "dense (Dense)                (None, 4096)              37752832  \n",
            "_________________________________________________________________\n",
            "dropout (Dropout)            (None, 4096)              0         \n",
            "_________________________________________________________________\n",
            "dense_1 (Dense)              (None, 4096)              16781312  \n",
            "_________________________________________________________________\n",
            "dropout_1 (Dropout)          (None, 4096)              0         \n",
            "_________________________________________________________________\n",
            "dense_2 (Dense)              (None, 4096)              16781312  \n",
            "=================================================================\n",
            "Total params: 75,062,656\n",
            "Trainable params: 75,062,656\n",
            "Non-trainable params: 0\n",
            "_________________________________________________________________\n"
          ],
          "name": "stdout"
        }
      ]
    },
    {
      "cell_type": "code",
      "metadata": {
        "colab": {
          "background_save": true
        },
        "id": "VkjZ6LGPnRk8"
      },
      "source": [
        "model.compile(loss='sparse_categorical_crossentropy', \n",
        "              optimizer=tf.optimizers.Adam(learning_rate=0.001),\n",
        "              metrics=['accuracy'])\n"
      ],
      "execution_count": null,
      "outputs": []
    },
    {
      "cell_type": "code",
      "metadata": {
        "id": "tBFhx4j6oy3K"
      },
      "source": [
        "model.fit(ds_train,\n",
        "          epochs=1,\n",
        "          verbose= 2)"
      ],
      "execution_count": null,
      "outputs": []
    },
    {
      "cell_type": "code",
      "metadata": {
        "id": "5xLZWed4r4Om"
      },
      "source": [
        ""
      ],
      "execution_count": null,
      "outputs": []
    }
  ]
}